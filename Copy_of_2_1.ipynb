{
  "nbformat": 4,
  "nbformat_minor": 0,
  "metadata": {
    "colab": {
      "provenance": []
    },
    "kernelspec": {
      "name": "python3",
      "display_name": "Python 3"
    },
    "language_info": {
      "name": "python"
    }
  },
  "cells": [
    {
      "cell_type": "code",
      "execution_count": null,
      "metadata": {
        "id": "khEbn6XbmwXK"
      },
      "outputs": [],
      "source": [
        "!pip install mp_api\n",
        "import numpy as np\n",
        "import pandas as pd\n",
        "import matplotlib.pyplot as plt\n",
        "from mp_api.client import MPRester\n",
        "\n",
        "# Set your API key (replace with your actual key)\n",
        "API_KEY = \"3ZVUGDS6a2pAXCs7cSuwBRXMuHni8qLQ\"\n",
        "\n",
        "def get_filtered_band_gaps(min_gap, max_gap):\n",
        "    \"\"\"Retrieve materials and extract band gaps within the specified range.\"\"\"\n",
        "    with MPRester(API_KEY) as mpr:\n",
        "        materials = mpr.materials.search(fields=[\"material_id\", \"formula_pretty\", \"entries\"])\n",
        "\n",
        "    if not materials:\n",
        "        print(\"No materials found for the given query.\")\n",
        "        return pd.DataFrame()\n",
        "\n",
        "    # Extract band gap from 'entries'\n",
        "    filtered_data = []\n",
        "    for mat in materials:\n",
        "        for entry in getattr(mat, \"entries\", []):  # Correct way to access entries\n",
        "            if hasattr(entry, \"band_gap\"):  # Ensure 'band_gap' exists before accessing\n",
        "                band_gap = entry.band_gap\n",
        "                if band_gap is not None and min_gap <= band_gap <= max_gap:\n",
        "                    filtered_data.append({\"Formula\": mat.formula_pretty, \"Band Gap (eV)\": band_gap})\n",
        "\n",
        "    return pd.DataFrame(filtered_data)\n",
        "\n",
        "def visualize_band_gaps(df):\n",
        "    \"\"\"Plot histogram of filtered band gaps.\"\"\"\n",
        "    if df.empty:\n",
        "        print(\"No data available for visualization.\")\n",
        "        return\n",
        "\n",
        "    plt.figure(figsize=(8, 5))\n",
        "    plt.hist(df[\"Band Gap (eV)\"], bins=20, color=\"green\", alpha=0.7)\n",
        "    plt.xlabel(\"Band Gap (eV)\")\n",
        "    plt.ylabel(\"Frequency\")\n",
        "    plt.title(\"Distribution of Band Gaps in Selected Range\")\n",
        "    plt.show()\n",
        "\n",
        "# Get user input before function execution\n",
        "min_gap = float(input(\"Enter minimum band gap (eV): \"))\n",
        "max_gap = float(input(\"Enter maximum band gap (eV): \"))\n",
        "\n",
        "# Retrieve and visualize results\n",
        "df_filtered = get_filtered_band_gaps(min_gap, max_gap)\n",
        "\n",
        "if not df_filtered.empty:\n",
        "    visualize_band_gaps(df_filtered)\n",
        "    print(df_filtered.head())\n",
        "else:\n",
        "    print(\"No materials match the specified band gap range.\")"
      ]
    }
  ]
}