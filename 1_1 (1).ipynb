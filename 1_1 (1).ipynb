{
  "nbformat": 4,
  "nbformat_minor": 0,
  "metadata": {
    "colab": {
      "provenance": []
    },
    "kernelspec": {
      "name": "python3",
      "display_name": "Python 3"
    },
    "language_info": {
      "name": "python"
    }
  },
  "cells": [
    {
      "cell_type": "code",
      "execution_count": null,
      "metadata": {
        "id": "khEbn6XbmwXK"
      },
      "outputs": [],
      "source": [
        "!pip install mp_api\n",
        "import os\n",
        "import numpy as np\n",
        "import pandas as pd\n",
        "import matplotlib.pyplot as plt\n",
        "from mp_api.client import MPRester\n",
        "\n",
        "# Setting API key\n",
        "API_KEY = \"\"\n",
        "\n",
        "def extract_band_gap(materials):\n",
        "    \"\"\"Extract band gap values from material entries safely.\"\"\"\n",
        "    data = []\n",
        "    for mat in materials:\n",
        "        for entry in getattr(mat, \"entries\", []):  # Correctly access entries\n",
        "            if hasattr(entry, \"band_gap\"):\n",
        "                band_gap = entry.band_gap\n",
        "                if band_gap is not None:\n",
        "                    data.append({\"Formula\": mat.formula_pretty, \"Band Gap (eV)\": band_gap})\n",
        "\n",
        "    df = pd.DataFrame(data)\n",
        "\n",
        "    # Debugging step: Check column names\n",
        "    print(\"Columns in extracted DataFrame:\", df.columns)\n",
        "\n",
        "    # Ensure column is correctly labeled inside the function before returning\n",
        "    if \"band_gap\" in df.columns:\n",
        "        df.rename(columns={\"band_gap\": \"Band Gap (eV)\"}, inplace=True)\n",
        "\n",
        "    return df  # Returning the corrected DataFrame\n",
        "\n",
        "def get_band_gaps():\n",
        "    \"\"\"Retrieve band gap data for oxides and nitrides.\"\"\"\n",
        "    with MPRester(API_KEY) as mpr:\n",
        "        oxides = mpr.materials.search(elements=[\"O\"], fields=[\"material_id\", \"formula_pretty\", \"entries\"])\n",
        "        nitrides = mpr.materials.search(elements=[\"N\"], fields=[\"material_id\", \"formula_pretty\", \"entries\"])\n",
        "    return df_oxides, df_nitrides\n",
        "\n",
        "    df_oxides = extract_band_gap(oxides)\n",
        "    df_nitrides = extract_band_gap(nitrides)\n",
        "\n",
        "\n",
        "print(\"Oxides DataFrame preview:\\n\", df_oxides.head())\n",
        "print(\"Nitrides DataFrame preview:\\n\", df_nitrides.head())\n",
        "\n",
        "\n",
        "def visualize_band_gaps(df_oxides, df_nitrides):\n",
        "    \"\"\"Plot band gap distributions for oxides and nitrides with safe indexing.\"\"\"\n",
        "    plt.figure(figsize=(10, 5))\n",
        "\n",
        "    # Close previous plots\n",
        "    plt.close(\"all\")\n",
        "    if \"Band Gap (eV)\" in df_oxides.columns:\n",
        "        plt.hist(df_oxides[\"Band Gap (eV)\"], bins=20, alpha=0.7, label=\"Oxides\", color=\"blue\")\n",
        "\n",
        "    if \"Band Gap (eV)\" in df_nitrides.columns:\n",
        "        plt.hist(df_nitrides[\"Band Gap (eV)\"], bins=20, alpha=0.7, label=\"Nitrides\", color=\"red\")\n",
        "\n",
        "    plt.xlabel(\"Band Gap (eV)\")\n",
        "    plt.ylabel(\"Frequency\")\n",
        "    plt.title(\"Comparison of Band Gaps: Oxides vs. Nitrides\")\n",
        "    plt.legend()\n",
        "    plt.show()\n",
        "\n",
        "# Retrieve and visualize band gaps correctly\n",
        "df_oxides, df_nitrides = get_band_gaps()\n",
        "visualize_band_gaps(df_oxides, df_nitrides)"
      ]
    }
  ]
}